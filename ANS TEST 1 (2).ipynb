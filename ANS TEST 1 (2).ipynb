{
 "cells": [
  {
   "cell_type": "code",
   "execution_count": 42,
   "id": "caf7a86a-ec4f-456f-92bb-009ba0231a76",
   "metadata": {},
   "outputs": [
    {
     "name": "stdout",
     "output_type": "stream",
     "text": [
      "DATA CONSENT INFORMATION:\n",
      "\n",
      "Please read: we wish to record your response data to an anonymised public data repository. Your data will be used for educational teaching purposes\n",
      "practising data analysis and visualisation. Please type yes in the box below if you consent to the upload.\n"
     ]
    },
    {
     "name": "stdin",
     "output_type": "stream",
     "text": [
      ">  yes\n"
     ]
    },
    {
     "name": "stdout",
     "output_type": "stream",
     "text": [
      "Thanks for your participation.\n",
      "Please contact philip.lewis@ucl.ac.uk\n",
      "If you have any questions or concerns\n",
      "regarding the stored results.\n"
     ]
    }
   ],
   "source": [
    "data_consent_info = \"\"\"DATA CONSENT INFORMATION:\n",
    "\n",
    "Please read: we wish to record your response data to an anonymised public data repository. Your data will be used for educational teaching purposes\n",
    "practising data analysis and visualisation. Please type yes in the box below if you consent to the upload.\"\"\"\n",
    "\n",
    "print(data_consent_info)\n",
    "\n",
    "result = input(\"> \")\n",
    "\n",
    "if result == \"yes\":\n",
    "    print(\"Thanks for your participation.\")\n",
    "    print(\"Please contact philip.lewis@ucl.ac.uk\")\n",
    "    print(\"If you have any questions or concerns\")\n",
    "    print(\"regarding the stored results.\")\n",
    "\n",
    "else:\n",
    "    # end code execution by raising an exception\n",
    "    raise(Exception(\"User did not consent to continue test.\"))"
   ]
  },
  {
   "cell_type": "code",
   "execution_count": 1,
   "id": "dea55ba0-a3f1-4c7a-a6eb-e870ccb01c9d",
   "metadata": {},
   "outputs": [
    {
     "name": "stdout",
     "output_type": "stream",
     "text": [
      "\n",
      "\n",
      "Enter your anonymised ID\n",
      "\n",
      "To generate an anonymous 4-letter unique user identifier please enter:\n",
      "\n",
      "- two letters based on the initials (first and last name) of a childhood friend\n",
      "- two letters based on the initials (first and last name) of a favourite actor / actress\n",
      "\n",
      "e.g. if your friend was called Charlie Brown and film star was Tom Cruise then your unique identifer would be CBTC\n"
     ]
    },
    {
     "name": "stdin",
     "output_type": "stream",
     "text": [
      ">  amd\n"
     ]
    },
    {
     "name": "stdout",
     "output_type": "stream",
     "text": [
      "User entered id: amd\n",
      "\n",
      "\n",
      "Enter your gender \n",
      "Male, Female or Other by typing m,f or o, respectively\n"
     ]
    },
    {
     "name": "stdin",
     "output_type": "stream",
     "text": [
      ">  f\n"
     ]
    }
   ],
   "source": [
    "id_instructions = \"\"\"\n",
    "\n",
    "Enter your anonymised ID\n",
    "\n",
    "To generate an anonymous 4-letter unique user identifier please enter:\n",
    "\n",
    "- two letters based on the initials (first and last name) of a childhood friend\n",
    "- two letters based on the initials (first and last name) of a favourite actor / actress\n",
    "\n",
    "e.g. if your friend was called Charlie Brown and film star was Tom Cruise then your unique identifer would be CBTC\"\"\"\n",
    "\n",
    "print(id_instructions)\n",
    "user_id = input(\"> \")\n",
    "print(\"User entered id:\", user_id)\n",
    "gender_instructions= \"\"\"\n",
    "\n",
    "Enter your gender \n",
    "Male, Female or Other by typing m,f or o, respectively\"\"\"\n",
    "print(gender_instructions)\n",
    "user_gender = input (\"> \")"
   ]
  },
  {
   "cell_type": "code",
   "execution_count": 2,
   "id": "b36c38f9-35dc-4252-bffb-77e4e2c0e567",
   "metadata": {},
   "outputs": [],
   "source": [
    "from IPython.display import display, HTML, Image, clear_output\n",
    "from threading import Timer \n",
    "import time\n",
    "import matplotlib.pyplot as plt\n",
    "from matplotlib import patches\n",
    "import json\n",
    "import numpy as np\n",
    "import math\n",
    "import ipywidgets as widgets\n",
    "from jupyter_ui_poll import ui_events"
   ]
  },
  {
   "cell_type": "code",
   "execution_count": 12,
   "id": "72394cd0-90ba-4c5b-b7e8-0576e62ce8e3",
   "metadata": {},
   "outputs": [],
   "source": [
    "def no_overlap(circle_center, previous_circles, radius):\n",
    "    for circle in previous_circles:\n",
    "        x_dif = circle_center[0] - circle[0]\n",
    "        y_dif = circle_center[1]- circle[1]\n",
    "        if math.sqrt(x_dif**2+y_dif**2) < 2*radius:\n",
    "            return False\n",
    "    return True      \n",
    "\n",
    "\n",
    "def circle_in_ellipse(circle_center, ellipse):\n",
    "    x = circle_center[0]\n",
    "    y = circle_center[1]\n",
    "    h, k = ellipse[0]\n",
    "    a = ellipse[1]\n",
    "    b = ellipse[2]\n",
    "    return (x-h)**2/a**2 + (y-k)**2/b**2 <= 1\n",
    "    \n",
    "def generate_image(num_left, num_right):\n",
    "    '''Generate an image with the given number of circles on both sides, and returns the correct answer to the image'''\n",
    "    #Create the image\n",
    "    fig, ax = plt.subplots()\n",
    "    plt.xlim((0,10))\n",
    "    plt.ylim((0,7.5))\n",
    "    circle_radius = 0.3\n",
    "\n",
    "    left_center = (2.5,4)\n",
    "    left_width = 4\n",
    "    left_height = 6\n",
    "    left_ellipse = patches.Ellipse(left_center, left_width, left_height, facecolor = 'none', edgecolor = 'black')\n",
    "    left_ellipse_data = [left_center, left_width- 10*circle_radius, left_height - 10* circle_radius]\n",
    "\n",
    "    right_center = (7.5,4)\n",
    "    right_width = 4\n",
    "    right_height = 6\n",
    "    right_ellipse = patches.Ellipse(right_center, right_width, right_height, facecolor = 'none', edgecolor = 'black')\n",
    "    right_ellipse_data = [right_center, right_width-10*circle_radius, right_height-10*circle_radius]\n",
    "    ax.add_patch(left_ellipse),\n",
    "    ax.add_patch(right_ellipse)\n",
    "    \n",
    "    previous_left_circles = []\n",
    "    for left_circle in range(num_left):\n",
    "        while True:\n",
    "            circle_x_center = np.random.uniform(left_center[0]-left_width/2  + 0.5, left_center[0]+left_width/2  - 0.5)\n",
    "            circle_y_center = np.random.uniform(left_center[1]-left_height/2  + 0.5, left_center[1]+left_height/2  - 0.5)\n",
    "            circle_center = (circle_x_center, circle_y_center)\n",
    "            if no_overlap(circle_center,previous_left_circles, circle_radius) and circle_in_ellipse(circle_center, left_ellipse_data):\n",
    "                ax.add_patch(patches.Circle(circle_center, circle_radius, facecolor = 'blue'))\n",
    "                previous_left_circles.append(circle_center)\n",
    "                break \n",
    "        \n",
    "    previous_right_circles = []\n",
    "    for right_circle in range(num_right):\n",
    "        while True:\n",
    "            circle_x_center = np.random.uniform(right_center[0]-right_width/2 + 0.5, right_center[0]+right_width/2  - 0.5)\n",
    "            circle_y_center = np.random.uniform(right_center[1]-right_height/2 + 0.5, right_center[1]+right_height/2 - 0.5)\n",
    "            circle_center = (circle_x_center, circle_y_center)\n",
    "            if no_overlap(circle_center,previous_right_circles, circle_radius) and circle_in_ellipse(circle_center, right_ellipse_data):\n",
    "                ax.add_patch(patches.Circle(circle_center, circle_radius, facecolor = 'orange'))\n",
    "                previous_right_circles.append(circle_center)\n",
    "                break\n",
    "    #fig.patch.set_visible(False)\n",
    "    ax.axis('off')\n",
    "\n",
    "    if num_left > num_right:\n",
    "        answer = 'Left'\n",
    "    elif num_right > num_left:\n",
    "        answer = 'Right'\n",
    "    else:\n",
    "        answer = 'Error, same number on both sides'\n",
    "    return answer, fig\n",
    "\n",
    "circle_numbers = [(1,3), (2,3), (4,3), (5,4), (6,7), (7,5), (8,7), (6,3), (10,9), (11,12), (9,10), (8,9), (9,8), (7,8), (7,3), (7,4), \n",
    "                  (8,6), (10,8), (7,10), (11,9), (12,10), (8,5), (6,9), (11, 10), (10, 12)]\n",
    "data = {}\n",
    "for i in range(len(circle_numbers)):\n",
    "    answer, figure = generate_image(circle_numbers[i][0],circle_numbers[i][1])\n",
    "    file_name = f'circles_figure_{str(i)}.jpg'\n",
    "    plt.savefig(file_name)\n",
    "    plt.close()\n",
    "    data[file_name] = answer\n",
    "\n",
    "out_file = open(\"results.json\", \"w\") \n",
    "json.dump(data, out_file)\n",
    "    "
   ]
  },
  {
   "cell_type": "code",
   "execution_count": 14,
   "id": "1e6dbb17-76f5-4636-b34e-951cc4d5beb5",
   "metadata": {},
   "outputs": [],
   "source": [
    "import requests\n",
    "from bs4 import BeautifulSoup\n",
    "import json\n",
    "\n",
    "def send_to_google_form(data_dict, form_url):\n",
    "    form_id = form_url[34:90]\n",
    "    view_form_url = f'https://docs.google.com/forms/d/e/{form_id}/viewform'\n",
    "    post_form_url = f'https://docs.google.com/forms/d/e/{form_id}/formResponse'\n",
    "\n",
    "    page = requests.get(view_form_url)\n",
    "    content = BeautifulSoup(page.content, \"html.parser\").find('script', type='text/javascript')\n",
    "    content = content.text[27:-1]\n",
    "    result = json.loads(content)[1][1]\n",
    "    form_dict = {}\n",
    "\n",
    "    loaded_all = True\n",
    "    for item in result:\n",
    "        if item[1].strip() not in data_dict:\n",
    "            print(f\"Form item {item[1]} not found. Data not uploaded.\")\n",
    "            loaded_all = False\n",
    "            return False\n",
    "\n",
    "        # Check if the value is an integer, convert to int\n",
    "        if isinstance(data_dict[item[1]], int):\n",
    "            form_dict[f'entry.{item[4][0][0]}'] = data_dict[item[1]]\n",
    "        else:\n",
    "            # Convert other types to strings\n",
    "            form_dict[f'entry.{item[4][0][0]}'] = str(data_dict[item[1]])\n",
    "\n",
    "    if loaded_all:\n",
    "        post_result = requests.post(post_form_url, data=form_dict)\n",
    "        return post_result.ok\n",
    "    else:\n",
    "        return False\n",
    "  "
   ]
  },
  {
   "cell_type": "code",
   "execution_count": 4,
   "id": "898b96fb-9273-4a58-b548-629612d88800",
   "metadata": {},
   "outputs": [],
   "source": [
    "event_info = {\n",
    "    'type': '',\n",
    "    'description': '',\n",
    "    'time': -1\n",
    "}\n",
    "\n",
    "def wait_for_event(timeout=-1, interval=0.001, max_rate=20, allow_interupt=True):    \n",
    "    start_wait = time.time()\n",
    "\n",
    "    # set event info to be empty\n",
    "    # as this is dict we can change entries\n",
    "    # directly without using\n",
    "    # the global keyword\n",
    "    event_info['type'] = \"\"\n",
    "    event_info['description'] = \"\"\n",
    "    event_info['time'] = -1\n",
    "\n",
    "    n_proc = int(max_rate*interval)+1\n",
    "    \n",
    "    with ui_events() as ui_poll:\n",
    "        keep_looping = True\n",
    "        while keep_looping==True:\n",
    "            # process UI events\n",
    "            ui_poll(n_proc)\n",
    "\n",
    "            # end loop if we have waited more than the timeout period\n",
    "            if (timeout != -1) and (time.time() > start_wait + timeout):\n",
    "                keep_looping = False\n",
    "                \n",
    "            # end loop if event has occured\n",
    "            if allow_interupt==True and event_info['description']!=\"\":\n",
    "                keep_looping = False\n",
    "                \n",
    "            # add pause before looping\n",
    "            # to check events again\n",
    "            time.sleep(interval)\n",
    "    \n",
    "    # return event description after wait ends\n",
    "    # will be set to empty string '' if no event occured\n",
    "    return event_info\n",
    "\n",
    "# this function lets buttons \n",
    "# register events when clicked\n",
    "def register_btn_event(btn):\n",
    "    event_info['type'] = \"button click\"\n",
    "    event_info['description'] = btn.description\n",
    "    event_info['time'] = time.time()\n",
    "    return"
   ]
  },
  {
   "cell_type": "code",
   "execution_count": 8,
   "id": "2d69bf17-7387-4913-8c02-726208d62abe",
   "metadata": {},
   "outputs": [
    {
     "data": {
      "application/vnd.jupyter.widget-view+json": {
       "model_id": "cc5488c9683f4e448bcfbddbd222cbe7",
       "version_major": 2,
       "version_minor": 0
      },
      "text/plain": [
       "Output(layout=Layout(height='60px'), outputs=({'output_type': 'display_data', 'data': {'text/plain': '<IPython…"
      ]
     },
     "metadata": {},
     "output_type": "display_data"
    },
    {
     "data": {
      "application/vnd.jupyter.widget-view+json": {
       "model_id": "d9566667247f4e8cb9d4caf075661f01",
       "version_major": 2,
       "version_minor": 0
      },
      "text/plain": [
       "Output(layout=Layout(height='300px'))"
      ]
     },
     "metadata": {},
     "output_type": "display_data"
    },
    {
     "data": {
      "application/vnd.jupyter.widget-view+json": {
       "model_id": "3cd34ec953dc4ea1b18d7824f10a6256",
       "version_major": 2,
       "version_minor": 0
      },
      "text/plain": [
       "Output(layout=Layout(height='60px'), outputs=({'output_type': 'display_data', 'data': {'text/plain': \"HBox(chi…"
      ]
     },
     "metadata": {},
     "output_type": "display_data"
    }
   ],
   "source": [
    "pictures = []\n",
    "answers = []\n",
    "with open (\"results.json\") as my_file: \n",
    "    data = json.load(my_file) \n",
    "    for pic, answer in data.items():\n",
    "        pictures.append(Image(pic, width = 300))\n",
    "        answers.append(answer)\n",
    "\n",
    "top_area = widgets.Output(layout={\"height\":\"60px\"})\n",
    "main_area = widgets.Output(layout={\"height\":\"300px\"})\n",
    "bottom_area = widgets.Output(layout={\"height\":\"60px\"})\n",
    "\n",
    "btn1 = widgets.Button(description=\"Left\")\n",
    "btn2 = widgets.Button(description=\"Right\")\n",
    "\n",
    "btn1.on_click(register_btn_event)\n",
    "btn2.on_click(register_btn_event)\n",
    "\n",
    "panel = widgets.HBox([btn1, btn2])\n",
    "\n",
    "top_area.append_display_data( HTML(\"<h1>Left or Right</h1>\") )\n",
    "bottom_area.append_display_data(panel)\n",
    "\n",
    "display(top_area)\n",
    "display(main_area)\n",
    "display(bottom_area)\n",
    "\n",
    "n = len(pictures)\n",
    "score = 0\n",
    "np.random.seed(1)\n",
    "shuffle = np.random.permutation(n)\n",
    "\n",
    "total_time= 0 \n",
    "\n",
    "for i in range(n):\n",
    "    new_i = shuffle[i]\n",
    "     \n",
    "    with main_area: display(pictures[new_i])\n",
    "    start_time= time.time()\n",
    "    result = wait_for_event(timeout=3)\n",
    "    end_time= time.time()\n",
    "    \n",
    "    if result['description'] == '':\n",
    "        with main_area: display(\"Too slow!\")\n",
    "    elif result['description'] ==  answers[new_i]:\n",
    "        with main_area: display(\"Correct!\")\n",
    "        score = score + 1\n",
    "    else:\n",
    "        with main_area: display(\"Wrong!\")  \n",
    "\n",
    "    response_time= end_time- start_time\n",
    "    total_time= response_time+ total_time\n",
    "        \n",
    "    wait_for_event(timeout=1.5)\n",
    "    with main_area: clear_output()\n",
    "        \n",
    "with bottom_area: clear_output()\n",
    "average_time= total_time/ n\n",
    "with main_area: print(f\"You scored {score} and your time was {total_time:.3f} seconds, with an average of {average_time:.3f} seconds per question\")"
   ]
  },
  {
   "cell_type": "code",
   "execution_count": 17,
   "id": "218930b2-d8b3-44d3-973e-3cb8098d6659",
   "metadata": {},
   "outputs": [
    {
     "data": {
      "text/plain": [
       "True"
      ]
     },
     "execution_count": 17,
     "metadata": {},
     "output_type": "execute_result"
    }
   ],
   "source": [
    "answers_dict = {'id': user_id,\n",
    "                'gender': user_gender,\n",
    "                'score': score, \n",
    "                'time per test': round(total_time,2),\n",
    "                'time per question': round(average_time,2)}\n",
    "form_url = \"https://docs.google.com/forms/d/e/1FAIpQLSeIXKlCo7TH-OG_nHCw8TsJ8rD7vJuKFJC-wM0CJAzxszryvQ/viewform\"\n",
    "\n",
    "send_to_google_form(answers_dict, form_url)"
   ]
  },
  {
   "cell_type": "code",
   "execution_count": null,
   "id": "f6bb5888-25bf-4437-b6a0-9f30471fe95d",
   "metadata": {},
   "outputs": [],
   "source": []
  }
 ],
 "metadata": {
  "kernelspec": {
   "display_name": "Python 3 (ipykernel)",
   "language": "python",
   "name": "python3"
  },
  "language_info": {
   "codemirror_mode": {
    "name": "ipython",
    "version": 3
   },
   "file_extension": ".py",
   "mimetype": "text/x-python",
   "name": "python",
   "nbconvert_exporter": "python",
   "pygments_lexer": "ipython3",
   "version": "3.10.10"
  }
 },
 "nbformat": 4,
 "nbformat_minor": 5
}
